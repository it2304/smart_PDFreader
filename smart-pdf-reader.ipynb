{
 "cells": [
  {
   "cell_type": "markdown",
   "id": "6a9fc3cd",
   "metadata": {},
   "source": [
    "<div style=\"text-align: center; font-size: 24px;\">\n",
    "    Welcome to your very own\n",
    "</div>\n",
    "\n",
    "<div style=\"text-align: center; font-size: 48px; color: red; font-style:bold; margin-top: 24px;\">\n",
    "    <strong>Smart PDF Reader</strong>\n",
    "</div>\n",
    "\n",
    "<div style=\"text-align: center; font-size: 24px; margin-top: 48px;\">\n",
    "    Built on 9/23/24 <br><br>\n",
    "    By Irfan Tamim <br><br>\n",
    "    For the sanity and piece of mind of Ashfah Alam\n",
    "</div>"
   ]
  },
  {
   "cell_type": "markdown",
   "id": "671a3f4c",
   "metadata": {},
   "source": [
    "## Description\n",
    "\n",
    "1. This tool retrieves the relevant PDFs from the local Excel files. \n",
    "2. The PDFs are then fed into a RAG database using text-embddings. \n",
    "3. An OpenAI wrapper is then instructed to answer specific questions using the RAG-based context. \n",
    "4. Another local Excel file is updated with the answers"
   ]
  },
  {
   "cell_type": "markdown",
   "id": "1e39d6e8",
   "metadata": {},
   "source": [
    "## Chapter 0: Preparation"
   ]
  },
  {
   "cell_type": "markdown",
   "id": "ca1d8dc9",
   "metadata": {},
   "source": [
    "### Task 1: Installations"
   ]
  },
  {
   "cell_type": "code",
   "execution_count": null,
   "id": "5067c7e0",
   "metadata": {},
   "outputs": [
    {
     "name": "stdout",
     "output_type": "stream",
     "text": [
      "Requirement already satisfied: pandas in c:\\users\\itami\\anaconda3\\lib\\site-packages (2.0.3)\n",
      "Requirement already satisfied: openpyxl in c:\\users\\itami\\anaconda3\\lib\\site-packages (3.0.10)\n",
      "Requirement already satisfied: python-dateutil>=2.8.2 in c:\\users\\itami\\anaconda3\\lib\\site-packages (from pandas) (2.8.2)\n",
      "Requirement already satisfied: pytz>=2020.1 in c:\\users\\itami\\anaconda3\\lib\\site-packages (from pandas) (2023.3.post1)\n",
      "Requirement already satisfied: tzdata>=2022.1 in c:\\users\\itami\\anaconda3\\lib\\site-packages (from pandas) (2023.3)\n",
      "Requirement already satisfied: numpy>=1.21.0 in c:\\users\\itami\\anaconda3\\lib\\site-packages (from pandas) (1.24.3)\n",
      "Requirement already satisfied: et_xmlfile in c:\\users\\itami\\anaconda3\\lib\\site-packages (from openpyxl) (1.1.0)\n",
      "Requirement already satisfied: six>=1.5 in c:\\users\\itami\\anaconda3\\lib\\site-packages (from python-dateutil>=2.8.2->pandas) (1.16.0)\n",
      "Note: you may need to restart the kernel to use updated packages.\n"
     ]
    }
   ],
   "source": [
    "pip3 install pandas openpyxl"
   ]
  },
  {
   "cell_type": "markdown",
   "id": "f669138d",
   "metadata": {},
   "source": [
    "### Task 2: Imports"
   ]
  },
  {
   "cell_type": "code",
   "execution_count": 2,
   "id": "4f419527",
   "metadata": {},
   "outputs": [],
   "source": [
    "import pandas as pd\n",
    "import openpyxl"
   ]
  },
  {
   "cell_type": "markdown",
   "id": "ffdca254",
   "metadata": {},
   "source": [
    "### Task 3: Specify file paths"
   ]
  },
  {
   "cell_type": "code",
   "execution_count": 3,
   "id": "f4b7bcae",
   "metadata": {},
   "outputs": [],
   "source": [
    "file_path = \"(UPDATED COPY) 2024 KPIs Assessment_Index Americas (All Top 130 and Mulatinas 50).xlsx\""
   ]
  },
  {
   "cell_type": "markdown",
   "id": "4a1539d4",
   "metadata": {},
   "source": [
    "### Task 4: Specify company names"
   ]
  },
  {
   "cell_type": "code",
   "execution_count": 4,
   "id": "c1a0fbbe",
   "metadata": {},
   "outputs": [],
   "source": [
    "companies = ['VESTAS WINDSYSTEMS']"
   ]
  },
  {
   "cell_type": "markdown",
   "id": "8c0f1ebe",
   "metadata": {},
   "source": [
    "## Chapter 1: Retrieve the correct PDFs"
   ]
  },
  {
   "cell_type": "markdown",
   "id": "e1b6e006",
   "metadata": {},
   "source": [
    "### Task 1: Read local Excel file"
   ]
  },
  {
   "cell_type": "code",
   "execution_count": 5,
   "id": "14a359bc",
   "metadata": {},
   "outputs": [
    {
     "name": "stdout",
     "output_type": "stream",
     "text": [
      "  IndexAmericas Top100                Unnamed: 1            Unnamed: 2  \\\n",
      "0                 DSCD  ESG Organization PermID           Company Name   \n",
      "1               679534                4295866012    VESTAS WINDSYSTEMS   \n",
      "2               900789                4295894770         UNILEVER (UK)   \n",
      "3               902172                5000072036                    3M   \n",
      "4               289504                4295859326  ANHEUSER-BUSCH INBEV   \n",
      "\n",
      "               Unnamed: 3          Unnamed: 4      Unnamed: 5      Unnamed: 6  \\\n",
      "0        TRBC SECTOR NAME  Assigned personnel         Country  Parent Company   \n",
      "1            Clean Energy              Ashfah         DENMARK             NaN   \n",
      "2  Consumer Non-Cyclicals                 NaN  UNITED KINGDOM             NaN   \n",
      "3  Consumer Non-Cyclicals                 NaN   UNITED STATES             NaN   \n",
      "4  Consumer Non-Cyclicals                 NaN         BELGIUM             NaN   \n",
      "\n",
      "  Unnamed: 7 Unnamed: 8          Unnamed: 9  ... Unnamed: 39  Unnamed: 40  \\\n",
      "0  Existing?       New?  Annual Report Year  ...        23.0         24.0   \n",
      "1          X        NaN                2023  ...         0.0          0.0   \n",
      "2          X        NaN                2023  ...         1.0          1.0   \n",
      "3          X        NaN                2023  ...         0.0          0.0   \n",
      "4          X        NaN                2023  ...         0.0          1.0   \n",
      "\n",
      "   Unnamed: 41  Unnamed: 42   Unnamed: 43  Unnamed: 44  \\\n",
      "0           30         31.0        Status      Top 130   \n",
      "1            1          1.0  Needs Review          NaN   \n",
      "2            1          1.0  Needs Review          NaN   \n",
      "3            1          1.0  Needs Review          NaN   \n",
      "4            1          1.0  Needs Review          NaN   \n",
      "\n",
      "                        Unnamed: 45  Complete  In progress  Not Started  \n",
      "0                   Sources (links)         0          0.0            0  \n",
      "1                               NaN       NaN          NaN          NaN  \n",
      "2                               NaN       NaN          NaN          NaN  \n",
      "3  https://equity.3m.com/DEI-report       NaN          NaN          NaN  \n",
      "4                               NaN       NaN          NaN          NaN  \n",
      "\n",
      "[5 rows x 49 columns]\n"
     ]
    }
   ],
   "source": [
    "df = pd.read_excel(file_path, sheet_name=\"IndexAmerias Top 150\")\n",
    "\n",
    "print(df.head())"
   ]
  },
  {
   "cell_type": "code",
   "execution_count": 6,
   "id": "b7103283",
   "metadata": {},
   "outputs": [],
   "source": [
    "result = df[df['Unnamed: 2'] == 'VESTAS WINDSYSTEMS'] "
   ]
  },
  {
   "cell_type": "code",
   "execution_count": 7,
   "id": "40a0ba80",
   "metadata": {},
   "outputs": [
    {
     "name": "stdout",
     "output_type": "stream",
     "text": [
      "1    2023\n",
      "Name: Unnamed: 9, dtype: object\n"
     ]
    }
   ],
   "source": [
    "link = result['Unnamed: 9']\n",
    "print(link)"
   ]
  },
  {
   "cell_type": "code",
   "execution_count": 19,
   "id": "de01b8f8",
   "metadata": {},
   "outputs": [
    {
     "name": "stdout",
     "output_type": "stream",
     "text": [
      "<Worksheet \"Multilatinas Top 50\">\n"
     ]
    },
    {
     "data": {
      "text/plain": [
       "['https://data.gruponutresa.com/informes/Informe_de_Sostenibilidad_2023-Grupo_Nutresa.pdf']"
      ]
     },
     "execution_count": 19,
     "metadata": {},
     "output_type": "execute_result"
    }
   ],
   "source": [
    "workbook = openpyxl.load_workbook(file_path, data_only=True)\n",
    "sheet = workbook.active\n",
    "\n",
    "print(sheet)\n",
    "\n",
    "# Extract hyperlinks from the 'Unnamed: 9' column (column index 9 corresponds to the 10th column)\n",
    "hyperlinks = []\n",
    "\n",
    "for row in sheet.iter_rows(min_row=2, max_col=10):  # Adjust min_row if you have headers\n",
    "    cell = row[9]  # Index 9 for 'Unnamed: 9'\n",
    "    if cell.hyperlink:\n",
    "        hyperlinks.append(cell.hyperlink.target)\n",
    "\n",
    "hyperlinks"
   ]
  },
  {
   "cell_type": "code",
   "execution_count": 7,
   "id": "b42c6415",
   "metadata": {},
   "outputs": [
    {
     "name": "stdout",
     "output_type": "stream",
     "text": [
      "Column names:\n",
      "Index([                    'DSCD', 'ESG Organization PermID ',\n",
      "                   'Company Name',         'TRBC SECTOR NAME',\n",
      "             'Assigned personnel',                  'Country',\n",
      "                 'Parent Company',                'Existing?',\n",
      "                           'New?',       'Annual Report Year',\n",
      "              'Sust. Report Year',                          1,\n",
      "                               11,                          8,\n",
      "                               14,                          7,\n",
      "                               15,                          2,\n",
      "                                9,                         10,\n",
      "                               13,                         12,\n",
      "                                3,                          6,\n",
      "                               16,                         19,\n",
      "                               20,                         22,\n",
      "                               23,                          5,\n",
      "                                4,                     '10.1',\n",
      "                           '11.1',                     '12.1',\n",
      "                           '13.1',                     '14.1',\n",
      "                           '20.1',                         21,\n",
      "                           '22.1',                     '23.1',\n",
      "                               24,                         30,\n",
      "                               31,                   'Status',\n",
      "                        'Top 130',          'Sources (links)',\n",
      "                                0,                      '0.1',\n",
      "                            '0.2'],\n",
      "      dtype='object')\n",
      "['VESTAS WINDSYSTEMS', 'UNILEVER (UK)', '3M', 'ANHEUSER-BUSCH INBEV', 'WSP GLOBAL', 'VOLVO B', 'TRANE TECHNOLOGIES', 'BASF', 'APERAM', 'L AIR LQE.SC.ANYME. POURL ETUDE ET L EPXTN.', 'DOW ORD SHS', 'ALCOA', 'CHEMOURS', 'FMC', 'PAN AMERICAN SILVER', 'KINROSS GOLD (NYS)', 'LINDE', 'CLARIANT', \"GIVAUDAN 'N'\", \"JA SOLAR TECHNOLOGY 'A'\", 'SIEMENS ENERGY N', 'NORDEX', 'INNERGEX RENEWABLE EN.', 'ATLN.SUST.INFR.', 'EDP ENERGIAS DE PORTUGAL', \"GURIT HOLDING 'B'\", 'GRENERGY RENOVABLES', 'IBERDROLA', 'MICROCHIP TECH.', 'SAMSUNG SDI', 'PUMA', 'BRIDGESTONE', 'LIXIL', 'ECLAT TEXTILE', 'HANESBRANDS', 'LEAR', 'KORDSA TEKNIK TEKSTIL A', 'PIRELLI & C', 'RICHEMONT N', 'SIGNIFY', 'RENAULT', 'SAINT GOBAIN', 'COCA COLA ICECEK', 'AAK', \"NESTLE 'N'\", 'KIMBERLY-CLARK', 'INGREDION', 'INTL.FLAVORS & FRAG.', 'ARCHER DANIELS MIDLAND', 'COLGATE-PALM.', \"ESTEE LAUDER COS.'A'\", 'MERSEN (EX LCL)', 'DANONE', 'MITSUBISHI ELECTRIC', 'KAO', 'BANCO DO BRASIL ON', 'BANCO BRADESCO PN', 'NOMURA HDG.', 'AEGON', 'BK.OF NOVA SCOTIA', 'BNP PARIBAS', 'BANCO SANTANDER', 'BBV.ARGENTARIA', 'MAPFRE', 'CITIGROUP', 'GOLDMAN SACHS GP.', 'BANK OF AMERICA', 'JP MORGAN CHASE & CO.', 'METLIFE', 'BARCLAYS', 'CREDIT SUISSE GROUP', 'ALLIANZ', 'BAYER', 'SIEMENS HEALTHINEERS', 'ASTELLAS PHARMA', 'DAIICHI SANKYO', 'OLYMPUS', 'ONO PHARM.', 'TAKEDA PHARMACEUTICAL', 'LONZA GROUP', \"NOVARTIS 'R'\", 'ROCHE HOLDING', 'SANOFI', 'ILLUMINA', 'JOHNSON & JOHNSON', 'MERCK & COMPANY', 'CATERPILLAR', 'SAMSUNG C&T', 'CTCI', 'GEORG FISCHER', \"SGS 'N'\", 'ABB LTD N', 'VINCI', 'ALSTOM', 'BIC', 'LEGRAND', 'CNH INDUSTRIAL', 'KONECRANES', 'SACYR', 'FIBRA MTY SAPI REIT', 'AMERICOLD REALTY TRUST', 'EQUINIX REIT', 'BROOKFIELD BUS.PTNS.UTS.', 'LG ELECTRONICS', 'NETAPP', 'APPLE', 'CISCO SYSTEMS', 'HP', 'INTEL', 'INTERNATIONAL BUS.MCHS.', 'MICROSOFT', 'LENOVO GROUP', \"LOGITECH 'R'\", 'NOKIA', 'SIEMENS', 'CNH INDUSTRIAL N V', 'TELEFONICA', 'EQUATORIAL ENERGIA ON', 'AES', 'SEMPRA', 'BROOKFIELD RENEWABLE PARTNERS', 'POLARIS RENEWABLE ENERGY', 'ENGIE', 'ENEL', 'ENDESA', 'NATURGY ENERGY', 'ENEL CHILE', 'ENGIE BRASIL ENERGIA ON', 'BANCOLOMBIA', 'ITAU UNIBANCO HOLDING PN', 'PARQUE ARAUCO', 'CORPORACION INMOBILIARIAVESTA', 'FIBRA UNO ADMINISTRACIONREIT', 'COLBUN MACHICURA', 'ENEL AMERICAS', 'CIA PARANAENSE DE ENERGIA COPEL PN', 'CIA ENERGETICA DE MINAS GERAIS PN', 'ENERGIAS DO BRASIL ON BRAZIL']\n"
     ]
    }
   ],
   "source": [
    "import pandas as pd\n",
    "import openpyxl\n",
    "\n",
    "# Specify file path\n",
    "file_path = \"(UPDATED COPY) 2024 KPIs Assessment_Index Americas (All Top 130 and Mulatinas 50).xlsx\"\n",
    "\n",
    "# Read the Excel file, skipping the first row\n",
    "df = pd.read_excel(file_path, sheet_name='IndexAmerias Top 150', header=1)\n",
    "\n",
    "# Print column names to verify\n",
    "print(\"Column names:\")\n",
    "print(df.columns)\n",
    "\n",
    "# Extract all the company names\n",
    "companies = df['Company Name'].tolist()\n",
    "\n",
    "print(companies)"
   ]
  },
  {
   "cell_type": "code",
   "execution_count": 8,
   "id": "478cd81b",
   "metadata": {},
   "outputs": [
    {
     "name": "stdout",
     "output_type": "stream",
     "text": [
      "Column names:\n",
      "{'VESTAS WINDSYSTEMS': {'Annual Report Year': 'https://mb.cision.com/Main/18886/3923785/2587209.pdf', 'Sust. Report Year': 'https://www.vestas.com/content/dam/vestas-com/global/en/investor/reports-and-presentations/financial/2023/2023-annual-report/Sustainability%20Report%202023.pdf.coredownload.inline.pdf'}, 'UNILEVER (UK)': {'Annual Report Year': 'https://www.unilever.com/files/92ui5egz/production/b09c3510ee7cec58440d5f044f02bdefe85aa186.pdf', 'Sust. Report Year': 'https://www.unilever.com/files/92ui5egz/production/b09c3510ee7cec58440d5f044f02bdefe85aa186.pdf'}, '3M': {'Annual Report Year': 'https://www.sec.gov/Archives/edgar/data/66740/000130817924000309/mmm4298631-ars.pdf', 'Sust. Report Year': 'https://multimedia.3m.com/mws/media/2292786O/3m-2023-global-impact-report.pdf'}, 'ANHEUSER-BUSCH INBEV': {'Annual Report Year': 'https://cdn.builder.io/o/assets%2F2e5c7fb020194c1a8ee80f743d0b923e%2Fc45d833164dc4e0a849c890cae931f4c?alt=media&token=5fe510b1-692d-4bc8-95f4-8a4ceb847bbc&apiKey=2e5c7fb020194c1a8ee80f743d0b923e', 'Sust. Report Year': 'https://cdn.builder.io/o/assets%2F2e5c7fb020194c1a8ee80f743d0b923e%2F6ecda8873aa943709a7108a0d91e97d2?alt=media&token=870100d7-b154-4dea-84e1-10e09c97ace3&apiKey=2e5c7fb020194c1a8ee80f743d0b923e'}, 'WSP GLOBAL': {'Annual Report Year': 'https://www.wsp.com/en-gl/investors/reports-and-filings/annual-report', 'Sust. Report Year': 'https://www.wsp.com/en-us/investors/reports-and-filings/esg-report'}, 'VOLVO B': {'Annual Report Year': 'https://www.volvogroup.com/content/dam/volvo-group/markets/master/events/2024/feb/annual-report-2023/AB-Volvo-Annual-Report-2023.pdf', 'Sust. Report Year': 'https://www.volvogroup.com/content/dam/volvo-group/markets/master/events/2024/feb/annual-report-2023/AB-Volvo-Annual-Report-2023.pdf'}, 'TRANE TECHNOLOGIES': {'Annual Report Year': 'https://s2.q4cdn.com/950394465/files/doc_financials/2023/ar/trane-technologies-annual-report-web-ready-final.pdf', 'Sust. Report Year': 'https://www.tranetechnologies.com/content/dam/cs-corporate/pdf/sustainability/annual/2023-ESG-Report.pdf'}, 'BASF': {'Annual Report Year': 'https://report.basf.com/2023/en/_assets/downloads/entire-basf-ar23.pdf?h=tI5JyxIJ', 'Sust. Report Year': 'https://report.basf.com/2023/en/_assets/downloads/esg-environment-social-governance-basf-ar23.pdf'}, 'APERAM': {'Annual Report Year': 'https://www.aperam.com/sites/default/files/documents/Annual_Report_2023.pdf', 'Sust. Report Year': 'https://www.aperam.com/news/sustainability-report-2023/'}, 'L AIR LQE.SC.ANYME. POURL ETUDE ET L EPXTN.': {'Annual Report Year': 'https://www.airliquide.com/sites/airliquide.com/files/2024-03/2023-annual-report.pdf', 'Sust. Report Year': 'https://usa.airliquide.com/sites/al_us/files/2024-04/airliquide-sustainability-report-2023.pdf'}, 'DOW ORD SHS': {'Annual Report Year': 'https://s23.q4cdn.com/981382065/files/doc_financials/2023/ar/dow_2023-annual-report_final.pdf', 'Sust. Report Year': 'https://corporate.dow.com/content/dam/corp/documents/about/066-00469-01-2023-progress-report.pdf'}, 'ALCOA': {'Annual Report Year': 'https://s29.q4cdn.com/945634774/files/doc_financials/2023/ar/alcoa-corp-2023-annual-report-final-bookmarked.pdf', 'Sust. Report Year': 'https://www.alcoa.com/sustainability/pdf/2023-Sustainability-Report.pdf'}, 'CHEMOURS': {'Annual Report Year': 'https://s21.q4cdn.com/411213655/files/doc_financials/2023/ar/annual-report-2023.pdf', 'Sust. Report Year': 'https://s21.q4cdn.com/411213655/files/doc_downloads/Sustainability/chemours_2023-sustainability-report_final.pdf'}, 'FMC': {'Annual Report Year': 'https://www.fmc.com/sites/default/files/2024-05/fmc026_10k_2023_web.pdf', 'Sust. Report Year': 'https://www.fmc.com/sites/default/files/2024-05/FMC-8167%202023%20Sustainability%20Report_r12%20Digital%20Final%20%281%29_1.pdf'}, 'PAN AMERICAN SILVER': {'Annual Report Year': 'https://panamericansilver.com/wp-content/uploads/2024/04/Annual-Report-2023_Pan-American-Silver-1.pdf', 'Sust. Report Year': 'https://panamericansilver.com/wp-content/uploads/2024/05/PAS-Sustainability-Report-2023.pdf'}, 'KINROSS GOLD (NYS)': {'Annual Report Year': 'https://s2.q4cdn.com/496390694/files/doc_financials/2023/ar/2023-annual-report-low-res.pdf', 'Sust. Report Year': 'https://s2.q4cdn.com/496390694/files/doc_downloads/sustainability/2024/Kinross-Gold-2023-Sustainabillity-Report-Final.pdf'}, 'LINDE': {'Annual Report Year': 'https://assets.linde.com/-/media/global/corporate/corporate/documents/investors/full-year-financial-reports/2023-annual-report-to-security-holders.pdf', 'Sust. Report Year': 'https://assets.linde.com/-/media/global/corporate/corporate/documents/sustainable-development/2023-sustainable-development-report.pdf'}, 'CLARIANT': {'Annual Report Year': 'https://www.clariant.com/en/Company/Integrated-Report/Integrated-Report-2023', 'Sust. Report Year': 'https://www.clariant.com/en/Company/Integrated-Report/Integrated-Report-2023'}, \"GIVAUDAN 'N'\": {'Annual Report Year': 'https://www.givaudan.com/files/giv-2023-integrated-report.pdf', 'Sust. Report Year': 'https://www.givaudan.com/files/giv-2023-integrated-report.pdf'}, \"JA SOLAR TECHNOLOGY 'A'\": {'Annual Report Year': 'https://qiniu.chuang100.com.cn/pdf/2023_Annual_Report.pdf', 'Sust. Report Year': 'https://www.jasolar.com/uploadfile/2023/0522/20230522055206325.pdf'}, 'SIEMENS ENERGY N': {'Annual Report Year': 'https://p3.aprimocdn.net/siemensenergy/41a02640-9d16-4610-af08-b0ce00e67556/2023-12-06-Siemens-Energy-AG-Annual-Report-2023-pdf_Original%20file.pdf', 'Sust. Report Year': 'https://p3.aprimocdn.net/siemensenergy/d66ceb42-cf25-45d4-9cd1-b0cf00ce4ca9/Siemens-Energy_Sustainability-Report-2023-pdf_Original%20file.pdf'}, 'NORDEX': {'Annual Report Year': 'https://www.nordex-online.com/wp-content/uploads/sites/2/2024/02/Annual-Report-2023_ENG.pdf', 'Sust. Report Year': 'https://www.nordex-online.com/wp-content/uploads/sites/2/2024/02/Sustainability-Report-2023-ENG.pdf'}, 'INNERGEX RENEWABLE EN.': {'Annual Report Year': 'https://www.innergex.com/en/media/rapport-annuel-2023', 'Sust. Report Year': 'https://www.innergex.com/en/esg'}, 'ATLN.SUST.INFR.': {'Annual Report Year': 'https://www.atlantica.com/wp-content/uploads/documents/2023-Integrated-Annual-Report-Web.pdf', 'Sust. Report Year': 'https://www.atlantica.com/wp-content/uploads/documents/2023-Integrated-Annual-Report-Web.pdf'}, 'EDP ENERGIAS DE PORTUGAL': {'Annual Report Year': 'https://www.edpr.com/sites/edpr/files/2024-03/EDPR_AnnualReport2023.pdf', 'Sust. Report Year': 'https://www.edp.com/sites/default/files/2024-02/2023%20ESG%20Report.pdf'}, \"GURIT HOLDING 'B'\": {'Annual Report Year': 'https://www.gurit.com/financial-reports-and-presentations/', 'Sust. Report Year': 'https://www.gurit.com/downloads/Gurit-Sustainability-Report-2023.pdf'}, 'GRENERGY RENOVABLES': {'Annual Report Year': None, 'Sust. Report Year': 'https://grenergy.eu/wp-content/uploads/2024/03/Grenergy-Sustainability-Report-2023.pdf'}, 'IBERDROLA': {'Annual Report Year': 'https://www.iberdrola.com/documents/20125/42388/IB_Integrated_Report.pdf', 'Sust. Report Year': 'https://www.iberdrola.com/documents/20125/42388/IB_Integrated_Report.pdf'}, 'MICROCHIP TECH.': {'Annual Report Year': None, 'Sust. Report Year': 'https://ww1.microchip.com/downloads/aemDocuments/documents/corporate-responsibilty/sustainability/2023-Microchip-Sustainability-Report.pdf'}, 'SAMSUNG SDI': {'Annual Report Year': None, 'Sust. Report Year': 'https://www.samsungsdi.com/upload/download/sustainable-management/2024_Samsung_SDI_Sustainability_Report_English.pdf'}, 'PUMA': {'Annual Report Year': None, 'Sust. Report Year': None}, 'BRIDGESTONE': {'Annual Report Year': None, 'Sust. Report Year': None}, 'LIXIL': {'Annual Report Year': None, 'Sust. Report Year': None}, 'ECLAT TEXTILE': {'Annual Report Year': None, 'Sust. Report Year': None}, 'HANESBRANDS': {'Annual Report Year': None, 'Sust. Report Year': None}, 'LEAR': {'Annual Report Year': None, 'Sust. Report Year': None}, 'KORDSA TEKNIK TEKSTIL A': {'Annual Report Year': None, 'Sust. Report Year': None}, 'PIRELLI & C': {'Annual Report Year': None, 'Sust. Report Year': None}, 'RICHEMONT N': {'Annual Report Year': None, 'Sust. Report Year': None}, 'SIGNIFY': {'Annual Report Year': None, 'Sust. Report Year': None}, 'RENAULT': {'Annual Report Year': None, 'Sust. Report Year': None}, 'SAINT GOBAIN': {'Annual Report Year': None, 'Sust. Report Year': None}, 'COCA COLA ICECEK': {'Annual Report Year': None, 'Sust. Report Year': None}, 'AAK': {'Annual Report Year': None, 'Sust. Report Year': None}, \"NESTLE 'N'\": {'Annual Report Year': None, 'Sust. Report Year': None}, 'KIMBERLY-CLARK': {'Annual Report Year': None, 'Sust. Report Year': None}, 'INGREDION': {'Annual Report Year': None, 'Sust. Report Year': None}, 'INTL.FLAVORS & FRAG.': {'Annual Report Year': None, 'Sust. Report Year': None}, 'ARCHER DANIELS MIDLAND': {'Annual Report Year': None, 'Sust. Report Year': None}, 'COLGATE-PALM.': {'Annual Report Year': None, 'Sust. Report Year': None}, \"ESTEE LAUDER COS.'A'\": {'Annual Report Year': None, 'Sust. Report Year': None}, 'MERSEN (EX LCL)': {'Annual Report Year': None, 'Sust. Report Year': None}, 'DANONE': {'Annual Report Year': None, 'Sust. Report Year': None}, 'MITSUBISHI ELECTRIC': {'Annual Report Year': None, 'Sust. Report Year': None}, 'KAO': {'Annual Report Year': None, 'Sust. Report Year': None}, 'BANCO DO BRASIL ON': {'Annual Report Year': None, 'Sust. Report Year': None}, 'BANCO BRADESCO PN': {'Annual Report Year': None, 'Sust. Report Year': None}, 'NOMURA HDG.': {'Annual Report Year': None, 'Sust. Report Year': None}, 'AEGON': {'Annual Report Year': None, 'Sust. Report Year': None}, 'BK.OF NOVA SCOTIA': {'Annual Report Year': None, 'Sust. Report Year': None}, 'BNP PARIBAS': {'Annual Report Year': None, 'Sust. Report Year': None}, 'BANCO SANTANDER': {'Annual Report Year': None, 'Sust. Report Year': None}, 'BBV.ARGENTARIA': {'Annual Report Year': None, 'Sust. Report Year': None}, 'MAPFRE': {'Annual Report Year': None, 'Sust. Report Year': None}, 'CITIGROUP': {'Annual Report Year': None, 'Sust. Report Year': None}, 'GOLDMAN SACHS GP.': {'Annual Report Year': None, 'Sust. Report Year': None}, 'BANK OF AMERICA': {'Annual Report Year': None, 'Sust. Report Year': None}, 'JP MORGAN CHASE & CO.': {'Annual Report Year': None, 'Sust. Report Year': None}, 'METLIFE': {'Annual Report Year': None, 'Sust. Report Year': None}, 'BARCLAYS': {'Annual Report Year': None, 'Sust. Report Year': None}, 'CREDIT SUISSE GROUP': {'Annual Report Year': None, 'Sust. Report Year': None}, 'ALLIANZ': {'Annual Report Year': None, 'Sust. Report Year': None}, 'BAYER': {'Annual Report Year': None, 'Sust. Report Year': None}, 'SIEMENS HEALTHINEERS': {'Annual Report Year': None, 'Sust. Report Year': None}, 'ASTELLAS PHARMA': {'Annual Report Year': 'https://www.astellas.com/en/investors/integrated-report', 'Sust. Report Year': 'https://www.astellas.com/en/investors/integrated-report'}, 'DAIICHI SANKYO': {'Annual Report Year': 'https://www.daiichisankyo.com/files/investors/library/annual_report/index/pdf/VR2023/VR2023_EN_full.pdf', 'Sust. Report Year': 'https://www.daiichisankyo.com/files/investors/library/annual_report/index/pdf/VR2023/VR2023_EN_full.pdf'}, 'OLYMPUS': {'Annual Report Year': 'https://www.olympus-global.com/ir/data/integratedreport/2023.html?page=ir', 'Sust. Report Year': 'https://www.olympus-global.com/csr/download/pdf/Olympus_Sustainability_Report_2023_en.pdf'}, 'ONO PHARM.': {'Annual Report Year': 'https://www.ono-pharma.com/sites/default/files/corp-report/en/pdf/2023_15_en.pdf', 'Sust. Report Year': None}, 'TAKEDA PHARMACEUTICAL': {'Annual Report Year': 'https://assets-dam.takeda.com/image/upload/global/investor/air/2024/takeda_2024_annual_integrated_report_en.pdf', 'Sust. Report Year': 'https://assets-dam.takeda.com/image/upload/v1697478048/legacy-dotcom/siteassets/pt-br/home/corporate-responsibility/Takeda_RS2022_EN_D3.pdf'}, 'LONZA GROUP': {'Annual Report Year': 'https://www.lonza.com/annualreport/2023/', 'Sust. Report Year': 'https://www.lonza.com/annualreport/2023/documents/Lonza_2023_Sustainability_Report.pdf'}, \"NOVARTIS 'R'\": {'Annual Report Year': 'https://www.novartis.com/sites/novartis_com/files/novartis-annual-report-2023.pdf', 'Sust. Report Year': 'https://www.novartis.com/sites/novartis_com/files/novartis-integrated-report-2023.pdf'}, 'ROCHE HOLDING': {'Annual Report Year': 'https://www.annualreports.com/HostedData/AnnualReports/PDF/NYSE_SNY_2023.pdf', 'Sust. Report Year': None}, 'SANOFI': {'Annual Report Year': None, 'Sust. Report Year': 'https://www.sanofi.com/assets/dotcom/content-app/publications/esg-reports/2023-01-01-declaration-of-extra-financial-performance-en.pdf'}, 'ILLUMINA': {'Annual Report Year': None, 'Sust. Report Year': None}, 'JOHNSON & JOHNSON': {'Annual Report Year': 'https://s203.q4cdn.com/636242992/files/doc_downloads/Annual_meeting/2024/Johnson-Johnson-2023-Annual-Report.pdf', 'Sust. Report Year': 'https://healthforhumanityreport.jnj.com/2023/_assets/downloads/johnson-johnson-2023-health-for-humanity-report.pdf?h=Ka9OvM1t'}, 'MERCK & COMPANY': {'Annual Report Year': 'https://s21.q4cdn.com/488056881/files/doc_financials/2023/ar/annual-report-to-security-holders.pdf', 'Sust. Report Year': 'https://www.merck.com/wp-content/uploads/sites/124/2024/08/Merck_ImpactReport_2023-2024.pdf'}, 'CATERPILLAR': {'Annual Report Year': None, 'Sust. Report Year': None}, 'SAMSUNG C&T': {'Annual Report Year': None, 'Sust. Report Year': None}, 'CTCI': {'Annual Report Year': None, 'Sust. Report Year': None}, 'GEORG FISCHER': {'Annual Report Year': None, 'Sust. Report Year': None}, \"SGS 'N'\": {'Annual Report Year': None, 'Sust. Report Year': None}, 'ABB LTD N': {'Annual Report Year': None, 'Sust. Report Year': None}, 'VINCI': {'Annual Report Year': None, 'Sust. Report Year': None}, 'ALSTOM': {'Annual Report Year': None, 'Sust. Report Year': None}, 'BIC': {'Annual Report Year': None, 'Sust. Report Year': None}, 'LEGRAND': {'Annual Report Year': None, 'Sust. Report Year': None}, 'CNH INDUSTRIAL': {'Annual Report Year': None, 'Sust. Report Year': None}, 'KONECRANES': {'Annual Report Year': None, 'Sust. Report Year': None}, 'SACYR': {'Annual Report Year': None, 'Sust. Report Year': None}, 'FIBRA MTY SAPI REIT': {'Annual Report Year': None, 'Sust. Report Year': 'https://investorcloud.s3.amazonaws.com/fibramty/Descargables/sustentabilidad/2024-07-3-ESG-2023-En.pdf'}, 'AMERICOLD REALTY TRUST': {'Annual Report Year': 'https://stocklight.com/stocks/us/nyse-cold/americold-realty-trust/annual-reports/nyse-cold-2023-10K-23674676.pdf', 'Sust. Report Year': 'https://483539.fs1.hubspotusercontent-na1.net/hubfs/483539/2023%20Sustainability%20Report%20FINAL.pdf'}, 'EQUINIX REIT': {'Annual Report Year': 'https://d1io3yog0oux5.cloudfront.net/_333847d75c83b1c282580ca6e07aed75/equinix/db/2196/23484/annual_report/Equinix-Inc_2023_Annual-Report.pdf', 'Sust. Report Year': 'https://d1io3yog0oux5.cloudfront.net/_333847d75c83b1c282580ca6e07aed75/equinix/db/2197/23485/file/Equinix-Inc_2023-Sustainability-Report.pdf'}, 'BROOKFIELD BUS.PTNS.UTS.': {'Annual Report Year': 'https://bbu.brookfield.com/sites/bbu-brookfield-ir/files/2024-03/bbp-q4-annual-report-cover.pdf', 'Sust. Report Year': 'https://bbu.brookfield.com/sites/bbu-brookfield-ir/files/brookfield/bbu/esg/bbu-esg-report-2022-final.pdf'}, 'LG ELECTRONICS': {'Annual Report Year': None, 'Sust. Report Year': None}, 'NETAPP': {'Annual Report Year': None, 'Sust. Report Year': None}, 'APPLE': {'Annual Report Year': None, 'Sust. Report Year': None}, 'CISCO SYSTEMS': {'Annual Report Year': None, 'Sust. Report Year': None}, 'HP': {'Annual Report Year': None, 'Sust. Report Year': None}, 'INTEL': {'Annual Report Year': None, 'Sust. Report Year': None}, 'INTERNATIONAL BUS.MCHS.': {'Annual Report Year': None, 'Sust. Report Year': None}, 'MICROSOFT': {'Annual Report Year': None, 'Sust. Report Year': None}, 'LENOVO GROUP': {'Annual Report Year': None, 'Sust. Report Year': None}, \"LOGITECH 'R'\": {'Annual Report Year': None, 'Sust. Report Year': None}, 'NOKIA': {'Annual Report Year': None, 'Sust. Report Year': None}, 'SIEMENS': {'Annual Report Year': None, 'Sust. Report Year': None}, 'CNH INDUSTRIAL N V': {'Annual Report Year': None, 'Sust. Report Year': None}, 'TELEFONICA': {'Annual Report Year': None, 'Sust. Report Year': None}, 'EQUATORIAL ENERGIA ON': {'Annual Report Year': None, 'Sust. Report Year': None}, 'AES': {'Annual Report Year': None, 'Sust. Report Year': None}, 'SEMPRA': {'Annual Report Year': None, 'Sust. Report Year': None}, 'BROOKFIELD RENEWABLE PARTNERS': {'Annual Report Year': None, 'Sust. Report Year': None}, 'POLARIS RENEWABLE ENERGY': {'Annual Report Year': None, 'Sust. Report Year': None}, 'ENGIE': {'Annual Report Year': None, 'Sust. Report Year': None}, 'ENEL': {'Annual Report Year': None, 'Sust. Report Year': None}, 'ENDESA': {'Annual Report Year': None, 'Sust. Report Year': None}, 'NATURGY ENERGY': {'Annual Report Year': None, 'Sust. Report Year': None}, 'ENEL CHILE': {'Annual Report Year': None, 'Sust. Report Year': None}, 'ENGIE BRASIL ENERGIA ON': {'Annual Report Year': None, 'Sust. Report Year': None}, 'BANCOLOMBIA': {'Annual Report Year': None, 'Sust. Report Year': None}, 'ITAU UNIBANCO HOLDING PN': {'Annual Report Year': None, 'Sust. Report Year': None}, 'PARQUE ARAUCO': {'Annual Report Year': None, 'Sust. Report Year': None}, 'CORPORACION INMOBILIARIAVESTA': {'Annual Report Year': None, 'Sust. Report Year': None}, 'FIBRA UNO ADMINISTRACIONREIT': {'Annual Report Year': None, 'Sust. Report Year': None}, 'COLBUN MACHICURA': {'Annual Report Year': None, 'Sust. Report Year': None}, 'ENEL AMERICAS': {'Annual Report Year': None, 'Sust. Report Year': None}, 'CIA PARANAENSE DE ENERGIA COPEL PN': {'Annual Report Year': None, 'Sust. Report Year': None}, 'CIA ENERGETICA DE MINAS GERAIS PN': {'Annual Report Year': None, 'Sust. Report Year': None}, 'ENERGIAS DO BRASIL ON BRAZIL': {'Annual Report Year': None, 'Sust. Report Year': None}}\n"
     ]
    }
   ],
   "source": [
    "import openpyxl\n",
    "# create a dictionary of dictionaries to store the link\n",
    "pdf_links = {}\n",
    "\n",
    "# Function to get hyperlinks from a specific column\n",
    "def get_hyperlinks(sheet, column_name, idx):\n",
    "    row_num = idx+3             \n",
    "    col_num = df.columns.get_loc(column_name) + 1  # +1 because openpyxl is 1-indexed\n",
    "    \n",
    "    cell = sheet.cell(row=row_num, column=col_num)\n",
    "\n",
    "    if (cell.hyperlink):\n",
    "        link = cell.hyperlink.target\n",
    "        return link\n",
    "    \n",
    "\n",
    "# Print column names to verify\n",
    "print(\"Column names:\")\n",
    "\n",
    "# Load the workbook\n",
    "workbook = openpyxl.load_workbook(file_path, data_only=True)\n",
    "sheet = workbook['IndexAmerias Top 150']\n",
    "\n",
    "# Specify the column name you want to extract hyperlinks from\n",
    "columns = [\"Annual Report Year\", \"Sust. Report Year\"]  # Replace with the actual column name\n",
    "\n",
    "# Get hyperlinks from the specified column\n",
    "for idx, company in enumerate(companies):\n",
    "    pdf_links[company] = {}\n",
    "    for col in columns:\n",
    "        #print(col)\n",
    "        pdf_links[company][col] = get_hyperlinks(sheet, col, idx)\n",
    "\n",
    "print (pdf_links)\n",
    "\n",
    "# Close the workbook\n",
    "workbook.close()"
   ]
  },
  {
   "cell_type": "code",
   "execution_count": 9,
   "id": "2cecdb3d",
   "metadata": {},
   "outputs": [
    {
     "name": "stdout",
     "output_type": "stream",
     "text": [
      "VESTAS WINDSYSTEMS {'Annual Report Year': 'https://mb.cision.com/Main/18886/3923785/2587209.pdf', 'Sust. Report Year': 'https://www.vestas.com/content/dam/vestas-com/global/en/investor/reports-and-presentations/financial/2023/2023-annual-report/Sustainability%20Report%202023.pdf.coredownload.inline.pdf'}\n",
      "UNILEVER (UK) {'Annual Report Year': 'https://www.unilever.com/files/92ui5egz/production/b09c3510ee7cec58440d5f044f02bdefe85aa186.pdf', 'Sust. Report Year': 'https://www.unilever.com/files/92ui5egz/production/b09c3510ee7cec58440d5f044f02bdefe85aa186.pdf'}\n",
      "3M {'Annual Report Year': 'https://www.sec.gov/Archives/edgar/data/66740/000130817924000309/mmm4298631-ars.pdf', 'Sust. Report Year': 'https://multimedia.3m.com/mws/media/2292786O/3m-2023-global-impact-report.pdf'}\n",
      "ANHEUSER-BUSCH INBEV {'Annual Report Year': 'https://cdn.builder.io/o/assets%2F2e5c7fb020194c1a8ee80f743d0b923e%2Fc45d833164dc4e0a849c890cae931f4c?alt=media&token=5fe510b1-692d-4bc8-95f4-8a4ceb847bbc&apiKey=2e5c7fb020194c1a8ee80f743d0b923e', 'Sust. Report Year': 'https://cdn.builder.io/o/assets%2F2e5c7fb020194c1a8ee80f743d0b923e%2F6ecda8873aa943709a7108a0d91e97d2?alt=media&token=870100d7-b154-4dea-84e1-10e09c97ace3&apiKey=2e5c7fb020194c1a8ee80f743d0b923e'}\n",
      "WSP GLOBAL {'Annual Report Year': 'https://www.wsp.com/en-gl/investors/reports-and-filings/annual-report', 'Sust. Report Year': 'https://www.wsp.com/en-us/investors/reports-and-filings/esg-report'}\n"
     ]
    }
   ],
   "source": [
    "# Test companies\n",
    "\n",
    "for key in list(pdf_links.keys())[:5]:  # Limits to the first 4 keys\n",
    "    print(key, pdf_links[key])\n",
    "\n",
    "\n"
   ]
  },
  {
   "cell_type": "code",
   "execution_count": null,
   "id": "25a2d82c",
   "metadata": {},
   "outputs": [
    {
     "name": "stdout",
     "output_type": "stream",
     "text": [
      "PDF downloaded successfully.\n"
     ]
    }
   ],
   "source": [
    "# Download PDFs\n",
    "import requests\n",
    "\n",
    "# PDF URL\n",
    "pdf_url = \"https://mb.cision.com/Main/18886/3923785/2587209.pdf\"\n",
    "\n",
    "# Send a GET request to download the PDF\n",
    "response = requests.get(pdf_url)\n",
    "\n",
    "# Save the PDF to a file\n",
    "with open(\"pdfs/vestas_annual.pdf\", \"wb\") as pdf_file:\n",
    "    pdf_file.write(response.content)\n",
    "\n",
    "print(\"PDF downloaded successfully.\")\n"
   ]
  },
  {
   "cell_type": "code",
   "execution_count": 16,
   "id": "0d3301b0",
   "metadata": {},
   "outputs": [
    {
     "name": "stdout",
     "output_type": "stream",
     "text": [
      "VESTAS WINDSYSTEMS\n",
      "https://mb.cision.com/Main/18886/3923785/2587209.pdf\n",
      "./pdfs//annual_report.pdf\n",
      "PDF downloaded successfully.\n",
      "https://www.vestas.com/content/dam/vestas-com/global/en/investor/reports-and-presentations/financial/2023/2023-annual-report/Sustainability%20Report%202023.pdf.coredownload.inline.pdf\n",
      "./pdfs//sust_report.pdf\n",
      "PDF downloaded successfully.\n",
      "UNILEVER (UK)\n",
      "https://www.unilever.com/files/92ui5egz/production/b09c3510ee7cec58440d5f044f02bdefe85aa186.pdf\n",
      "./pdfs//annual_report.pdf\n",
      "PDF downloaded successfully.\n",
      "https://www.unilever.com/files/92ui5egz/production/b09c3510ee7cec58440d5f044f02bdefe85aa186.pdf\n",
      "./pdfs//sust_report.pdf\n",
      "PDF downloaded successfully.\n",
      "3M\n",
      "https://www.sec.gov/Archives/edgar/data/66740/000130817924000309/mmm4298631-ars.pdf\n",
      "./pdfs//annual_report.pdf\n",
      "PDF downloaded successfully.\n",
      "https://multimedia.3m.com/mws/media/2292786O/3m-2023-global-impact-report.pdf\n",
      "./pdfs//sust_report.pdf\n",
      "PDF downloaded successfully.\n",
      "ANHEUSER-BUSCH INBEV\n",
      "https://cdn.builder.io/o/assets%2F2e5c7fb020194c1a8ee80f743d0b923e%2Fc45d833164dc4e0a849c890cae931f4c?alt=media&token=5fe510b1-692d-4bc8-95f4-8a4ceb847bbc&apiKey=2e5c7fb020194c1a8ee80f743d0b923e\n",
      "./pdfs//annual_report.pdf\n",
      "PDF downloaded successfully.\n",
      "https://cdn.builder.io/o/assets%2F2e5c7fb020194c1a8ee80f743d0b923e%2F6ecda8873aa943709a7108a0d91e97d2?alt=media&token=870100d7-b154-4dea-84e1-10e09c97ace3&apiKey=2e5c7fb020194c1a8ee80f743d0b923e\n",
      "./pdfs//sust_report.pdf\n",
      "PDF downloaded successfully.\n",
      "WSP GLOBAL\n",
      "https://www.wsp.com/en-gl/investors/reports-and-filings/annual-report\n",
      "./pdfs//annual_report.pdf\n",
      "PDF downloaded successfully.\n",
      "https://www.wsp.com/en-us/investors/reports-and-filings/esg-report\n",
      "./pdfs//sust_report.pdf\n",
      "PDF downloaded successfully.\n"
     ]
    }
   ],
   "source": [
    "# Download PDFs\n",
    "import requests\n",
    "import os\n",
    "\n",
    "pdf_name = {\"Annual Report Year\": \"/annual_report.pdf\", \"Sust. Report Year\": \"/sust_report.pdf\"}\n",
    "dest_dir = \"./pdfs/\"\n",
    "# PDF URL\n",
    "for key in list(pdf_links.keys())[:5]:  # Limits to the first 4 keys\n",
    "    print(key)\n",
    "\n",
    "    os.makedirs(dest_dir + key, exist_ok=True)\n",
    "\n",
    "    for pdf_type in list(pdf_links[key].keys()):\n",
    "        pdf_url = pdf_links[key][pdf_type]\n",
    "        print(pdf_url)\n",
    "\n",
    "        # send request to download PDF\n",
    "        res = requests.get(pdf_url)\n",
    "\n",
    "        # Save the PDF to a file\n",
    "        with open(dest_dir + key + pdf_name[pdf_type], \"wb\") as pdf_file:\n",
    "            print(dest_dir + key + pdf_name[pdf_type])\n",
    "            pdf_file.write(res.content)\n",
    "\n",
    "        print(\"PDF downloaded successfully.\")\n",
    "\n",
    "\n",
    "\n",
    "\n",
    "\n",
    "\n",
    "\n",
    "\n",
    "\n",
    "\n",
    "    "
   ]
  },
  {
   "cell_type": "code",
   "execution_count": 19,
   "id": "a9290b51",
   "metadata": {},
   "outputs": [
    {
     "ename": "AttributeError",
     "evalue": "init is no longer a top-level attribute of the pinecone package.\n\nPlease create an instance of the Pinecone class instead.\n\nExample:\n\n    import os\n    from pinecone import Pinecone, ServerlessSpec\n\n    pc = Pinecone(\n        api_key=os.environ.get(\"PINECONE_API_KEY\")\n    )\n\n    # Now do stuff\n    if 'my_index' not in pc.list_indexes().names():\n        pc.create_index(\n            name='my_index', \n            dimension=1536, \n            metric='euclidean',\n            spec=ServerlessSpec(\n                cloud='aws',\n                region='us-west-2'\n            )\n        )\n\n",
     "output_type": "error",
     "traceback": [
      "\u001b[1;31m---------------------------------------------------------------------------\u001b[0m",
      "\u001b[1;31mAttributeError\u001b[0m                            Traceback (most recent call last)",
      "Cell \u001b[1;32mIn[19], line 28\u001b[0m\n\u001b[0;32m     26\u001b[0m \u001b[38;5;66;03m# Initialize clients\u001b[39;00m\n\u001b[0;32m     27\u001b[0m client \u001b[38;5;241m=\u001b[39m OpenAI(api_key\u001b[38;5;241m=\u001b[39mopenai_api_key)\n\u001b[1;32m---> 28\u001b[0m pinecone\u001b[38;5;241m.\u001b[39minit(api_key\u001b[38;5;241m=\u001b[39mpinecone_api_key, environment\u001b[38;5;241m=\u001b[39mpinecone_environment)\n\u001b[0;32m     30\u001b[0m \u001b[38;5;66;03m### Task 4: Define functions for text processing and embedding\u001b[39;00m\n\u001b[0;32m     32\u001b[0m \u001b[38;5;28;01mdef\u001b[39;00m \u001b[38;5;21mextract_text_from_pdf\u001b[39m(pdf_path):\n",
      "File \u001b[1;32mc:\\Users\\ITami\\miniconda3\\envs\\pdf-reader\\Lib\\site-packages\\pinecone\\deprecation_warnings.py:39\u001b[0m, in \u001b[0;36minit\u001b[1;34m(*args, **kwargs)\u001b[0m\n\u001b[0;32m     12\u001b[0m     example \u001b[38;5;241m=\u001b[39m \u001b[38;5;124m\"\"\"\u001b[39m\n\u001b[0;32m     13\u001b[0m \u001b[38;5;124m    import os\u001b[39m\n\u001b[0;32m     14\u001b[0m \u001b[38;5;124m    from pinecone import Pinecone, ServerlessSpec\u001b[39m\n\u001b[1;32m   (...)\u001b[0m\n\u001b[0;32m     30\u001b[0m \u001b[38;5;124m        )\u001b[39m\n\u001b[0;32m     31\u001b[0m \u001b[38;5;124m\"\"\"\u001b[39m\n\u001b[0;32m     32\u001b[0m     msg \u001b[38;5;241m=\u001b[39m \u001b[38;5;124mf\u001b[39m\u001b[38;5;124m\"\"\"\u001b[39m\u001b[38;5;124minit is no longer a top-level attribute of the pinecone package.\u001b[39m\n\u001b[0;32m     33\u001b[0m \n\u001b[0;32m     34\u001b[0m \u001b[38;5;124mPlease create an instance of the Pinecone class instead.\u001b[39m\n\u001b[1;32m   (...)\u001b[0m\n\u001b[0;32m     37\u001b[0m \u001b[38;5;132;01m{\u001b[39;00mexample\u001b[38;5;132;01m}\u001b[39;00m\n\u001b[0;32m     38\u001b[0m \u001b[38;5;124m\"\"\"\u001b[39m\n\u001b[1;32m---> 39\u001b[0m     \u001b[38;5;28;01mraise\u001b[39;00m \u001b[38;5;167;01mAttributeError\u001b[39;00m(msg)\n",
      "\u001b[1;31mAttributeError\u001b[0m: init is no longer a top-level attribute of the pinecone package.\n\nPlease create an instance of the Pinecone class instead.\n\nExample:\n\n    import os\n    from pinecone import Pinecone, ServerlessSpec\n\n    pc = Pinecone(\n        api_key=os.environ.get(\"PINECONE_API_KEY\")\n    )\n\n    # Now do stuff\n    if 'my_index' not in pc.list_indexes().names():\n        pc.create_index(\n            name='my_index', \n            dimension=1536, \n            metric='euclidean',\n            spec=ServerlessSpec(\n                cloud='aws',\n                region='us-west-2'\n            )\n        )\n\n"
     ]
    }
   ],
   "source": [
    "## Chapter 2: Create RAG Pipeline for Vestas Windsystems\n",
    "\n",
    "### Task 1: Download nencessary modules\n",
    "\n",
    "### Task 2: Import required libraries\n",
    "\n",
    "import os\n",
    "from dotenv import load_dotenv\n",
    "from pypdf import PdfReader\n",
    "from openai import OpenAI\n",
    "import pinecone\n",
    "from tiktoken import get_encoding\n",
    "import openai\n",
    "from pinecone import Pinecone, ServerlessSpec\n",
    "\n",
    "### Task 3: Load environment variables and initialize clients\n",
    "\n",
    "# Load environment variables from .env.local file\n",
    "load_dotenv('.env.local')\n",
    "\n",
    "# Get API keys from environment variables\n",
    "openai_api_key = os.getenv('OPENAI_API_KEY')\n",
    "pinecone_api_key = os.getenv('PINECONE_API_KEY')\n",
    "pinecone_environment = os.getenv('PINECONE_ENVIRONMENT')\n",
    "\n",
    "# Initialize clients\n",
    "client = OpenAI(api_key=openai_api_key)\n",
    "pinecone.init(api_key=pinecone_api_key, environment=pinecone_environment)\n",
    "\n",
    "### Task 4: Define functions for text processing and embedding\n",
    "\n",
    "def extract_text_from_pdf(pdf_path):\n",
    "    reader = PdfReader(pdf_path)\n",
    "    text = \"\"\n",
    "    for page in reader.pages:\n",
    "        text += page.extract_text() + \"\\n\"\n",
    "    return text\n",
    "\n",
    "def split_text(text, max_tokens=500):\n",
    "    encoding = get_encoding(\"cl100k_base\")\n",
    "    tokens = encoding.encode(text)\n",
    "    chunks = []\n",
    "    current_chunk = []\n",
    "    current_count = 0\n",
    "    \n",
    "    for token in tokens:\n",
    "        current_chunk.append(token)\n",
    "        current_count += 1\n",
    "        if current_count >= max_tokens:\n",
    "            chunks.append(encoding.decode(current_chunk))\n",
    "            current_chunk = []\n",
    "            current_count = 0\n",
    "    \n",
    "    if current_chunk:\n",
    "        chunks.append(encoding.decode(current_chunk))\n",
    "    \n",
    "    return chunks\n",
    "\n",
    "def get_embedding(text):\n",
    "    response = client.embeddings.create(\n",
    "        model=\"text-embedding-3-small\",\n",
    "        input=text\n",
    "    )\n",
    "    return response.data[0].embedding\n",
    "\n",
    "### Task 5: Process PDFs and generate embeddings\n",
    "\n",
    "pdf_folder = \"./pdfs/VESTAS WINDSYSTEMS\"\n",
    "pdf_files = [f for f in os.listdir(pdf_folder) if f.endswith('.pdf')]\n",
    "\n",
    "all_chunks = []\n",
    "for pdf_file in pdf_files:\n",
    "    pdf_path = os.path.join(pdf_folder, pdf_file)\n",
    "    text = extract_text_from_pdf(pdf_path)\n",
    "    chunks = split_text(text)\n",
    "    all_chunks.extend(chunks)\n",
    "\n",
    "embeddings = [get_embedding(chunk) for chunk in all_chunks]\n",
    "\n",
    "### Task 6: Store embeddings in Pinecone\n",
    "\n",
    "index_name = \"vestas_windsystems\"\n",
    "\n",
    "# Create index if it doesn't exist\n",
    "if index_name not in pinecone.list_indexes():\n",
    "    pinecone.create_index(name=\"rag\", dimension=1536, metric=\"cosine\", spec=ServerlessSpec(cloud=\"aws\", region=\"us-east-1\"))\n",
    "\n",
    "# Connect to the index\n",
    "index = pinecone.Index(index_name)\n",
    "\n",
    "# Upsert embeddings\n",
    "vectors = [(f\"chunk_{i}\", embedding, {\"text\": chunk}) for i, (chunk, embedding) in enumerate(zip(all_chunks, embeddings))]\n",
    "index.upsert(vectors=vectors)\n",
    "\n",
    "print(f\"Successfully stored {len(vectors)} embeddings in Pinecone for Vestas Windsystems\")\n",
    "\n",
    "# ... rest of your notebook ..."
   ]
  },
  {
   "cell_type": "code",
   "execution_count": null,
   "id": "268003b9",
   "metadata": {},
   "outputs": [],
   "source": []
  }
 ],
 "metadata": {
  "kernelspec": {
   "display_name": "Python 3 (ipykernel)",
   "language": "python",
   "name": "python3"
  },
  "language_info": {
   "codemirror_mode": {
    "name": "ipython",
    "version": 3
   },
   "file_extension": ".py",
   "mimetype": "text/x-python",
   "name": "python",
   "nbconvert_exporter": "python",
   "pygments_lexer": "ipython3",
   "version": "3.12.0"
  }
 },
 "nbformat": 4,
 "nbformat_minor": 5
}
